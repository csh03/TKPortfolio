{
 "cells": [
  {
   "cell_type": "code",
   "execution_count": 1,
   "id": "5c196f98",
   "metadata": {},
   "outputs": [],
   "source": [
    "#Let's go ahead and start with some imports\n",
    "import pandas as pd\n",
    "from pandas import Series,DataFrame\n",
    "import numpy as np\n",
    "\n",
    "# For Visualization\n",
    "import matplotlib.pyplot as plt\n",
    "import seaborn as sns\n",
    "sns.set_style('whitegrid')\n",
    "%matplotlib inline\n",
    "\n",
    "# For reading stock data from yahoo\n",
    "import pandas_datareader.data as web\n",
    "\n",
    "# For time stamps\n",
    "from datetime import datetime\n",
    "\n",
    "# For division\n",
    "from __future__ import division"
   ]
  },
  {
   "cell_type": "code",
   "execution_count": 2,
   "id": "114463a2",
   "metadata": {},
   "outputs": [],
   "source": [
    "import numba\n",
    "from numba import cuda\n",
    "import cupy as cp\n",
    "import math"
   ]
  },
  {
   "cell_type": "code",
   "execution_count": 3,
   "id": "b0e5b485",
   "metadata": {},
   "outputs": [],
   "source": [
    "endtime = datetime.now()\n",
    "start = datetime(endtime.year-1,endtime.month,endtime.day)\n",
    "NVDA = web.DataReader('NVDA','yahoo',start,endtime)"
   ]
  },
  {
   "cell_type": "code",
   "execution_count": 4,
   "id": "62212c5c",
   "metadata": {},
   "outputs": [
    {
     "data": {
      "text/html": [
       "<div>\n",
       "<style scoped>\n",
       "    .dataframe tbody tr th:only-of-type {\n",
       "        vertical-align: middle;\n",
       "    }\n",
       "\n",
       "    .dataframe tbody tr th {\n",
       "        vertical-align: top;\n",
       "    }\n",
       "\n",
       "    .dataframe thead th {\n",
       "        text-align: right;\n",
       "    }\n",
       "</style>\n",
       "<table border=\"1\" class=\"dataframe\">\n",
       "  <thead>\n",
       "    <tr style=\"text-align: right;\">\n",
       "      <th></th>\n",
       "      <th>High</th>\n",
       "      <th>Low</th>\n",
       "      <th>Open</th>\n",
       "      <th>Close</th>\n",
       "      <th>Volume</th>\n",
       "      <th>Adj Close</th>\n",
       "    </tr>\n",
       "    <tr>\n",
       "      <th>Date</th>\n",
       "      <th></th>\n",
       "      <th></th>\n",
       "      <th></th>\n",
       "      <th></th>\n",
       "      <th></th>\n",
       "      <th></th>\n",
       "    </tr>\n",
       "  </thead>\n",
       "  <tbody>\n",
       "    <tr>\n",
       "      <th>2021-07-22</th>\n",
       "      <td>198.869995</td>\n",
       "      <td>192.759995</td>\n",
       "      <td>196.419998</td>\n",
       "      <td>195.940002</td>\n",
       "      <td>32382600.0</td>\n",
       "      <td>195.806717</td>\n",
       "    </tr>\n",
       "    <tr>\n",
       "      <th>2021-07-23</th>\n",
       "      <td>197.000000</td>\n",
       "      <td>192.500000</td>\n",
       "      <td>196.559998</td>\n",
       "      <td>195.580002</td>\n",
       "      <td>19567200.0</td>\n",
       "      <td>195.446960</td>\n",
       "    </tr>\n",
       "    <tr>\n",
       "      <th>2021-07-26</th>\n",
       "      <td>194.419998</td>\n",
       "      <td>189.139999</td>\n",
       "      <td>193.110001</td>\n",
       "      <td>192.940002</td>\n",
       "      <td>20394300.0</td>\n",
       "      <td>192.808746</td>\n",
       "    </tr>\n",
       "    <tr>\n",
       "      <th>2021-07-27</th>\n",
       "      <td>196.220001</td>\n",
       "      <td>187.410004</td>\n",
       "      <td>192.649994</td>\n",
       "      <td>192.080002</td>\n",
       "      <td>24886300.0</td>\n",
       "      <td>191.949341</td>\n",
       "    </tr>\n",
       "    <tr>\n",
       "      <th>2021-07-28</th>\n",
       "      <td>196.460007</td>\n",
       "      <td>189.949997</td>\n",
       "      <td>193.190002</td>\n",
       "      <td>195.029999</td>\n",
       "      <td>20219100.0</td>\n",
       "      <td>194.897308</td>\n",
       "    </tr>\n",
       "    <tr>\n",
       "      <th>...</th>\n",
       "      <td>...</td>\n",
       "      <td>...</td>\n",
       "      <td>...</td>\n",
       "      <td>...</td>\n",
       "      <td>...</td>\n",
       "      <td>...</td>\n",
       "    </tr>\n",
       "    <tr>\n",
       "      <th>2022-07-18</th>\n",
       "      <td>168.970001</td>\n",
       "      <td>160.020004</td>\n",
       "      <td>163.020004</td>\n",
       "      <td>161.009995</td>\n",
       "      <td>67051700.0</td>\n",
       "      <td>161.009995</td>\n",
       "    </tr>\n",
       "    <tr>\n",
       "      <th>2022-07-19</th>\n",
       "      <td>171.100006</td>\n",
       "      <td>161.720001</td>\n",
       "      <td>164.860001</td>\n",
       "      <td>169.919998</td>\n",
       "      <td>70236600.0</td>\n",
       "      <td>169.919998</td>\n",
       "    </tr>\n",
       "    <tr>\n",
       "      <th>2022-07-20</th>\n",
       "      <td>179.330002</td>\n",
       "      <td>168.009995</td>\n",
       "      <td>169.470001</td>\n",
       "      <td>178.070007</td>\n",
       "      <td>76053800.0</td>\n",
       "      <td>178.070007</td>\n",
       "    </tr>\n",
       "    <tr>\n",
       "      <th>2022-07-21</th>\n",
       "      <td>181.440002</td>\n",
       "      <td>175.449997</td>\n",
       "      <td>178.850006</td>\n",
       "      <td>180.500000</td>\n",
       "      <td>55704900.0</td>\n",
       "      <td>180.500000</td>\n",
       "    </tr>\n",
       "    <tr>\n",
       "      <th>2022-07-22</th>\n",
       "      <td>179.669998</td>\n",
       "      <td>171.365005</td>\n",
       "      <td>178.929993</td>\n",
       "      <td>173.190002</td>\n",
       "      <td>53667088.0</td>\n",
       "      <td>173.190002</td>\n",
       "    </tr>\n",
       "  </tbody>\n",
       "</table>\n",
       "<p>253 rows × 6 columns</p>\n",
       "</div>"
      ],
      "text/plain": [
       "                  High         Low        Open       Close      Volume  \\\n",
       "Date                                                                     \n",
       "2021-07-22  198.869995  192.759995  196.419998  195.940002  32382600.0   \n",
       "2021-07-23  197.000000  192.500000  196.559998  195.580002  19567200.0   \n",
       "2021-07-26  194.419998  189.139999  193.110001  192.940002  20394300.0   \n",
       "2021-07-27  196.220001  187.410004  192.649994  192.080002  24886300.0   \n",
       "2021-07-28  196.460007  189.949997  193.190002  195.029999  20219100.0   \n",
       "...                ...         ...         ...         ...         ...   \n",
       "2022-07-18  168.970001  160.020004  163.020004  161.009995  67051700.0   \n",
       "2022-07-19  171.100006  161.720001  164.860001  169.919998  70236600.0   \n",
       "2022-07-20  179.330002  168.009995  169.470001  178.070007  76053800.0   \n",
       "2022-07-21  181.440002  175.449997  178.850006  180.500000  55704900.0   \n",
       "2022-07-22  179.669998  171.365005  178.929993  173.190002  53667088.0   \n",
       "\n",
       "             Adj Close  \n",
       "Date                    \n",
       "2021-07-22  195.806717  \n",
       "2021-07-23  195.446960  \n",
       "2021-07-26  192.808746  \n",
       "2021-07-27  191.949341  \n",
       "2021-07-28  194.897308  \n",
       "...                ...  \n",
       "2022-07-18  161.009995  \n",
       "2022-07-19  169.919998  \n",
       "2022-07-20  178.070007  \n",
       "2022-07-21  180.500000  \n",
       "2022-07-22  173.190002  \n",
       "\n",
       "[253 rows x 6 columns]"
      ]
     },
     "execution_count": 4,
     "metadata": {},
     "output_type": "execute_result"
    }
   ],
   "source": [
    "NVDA"
   ]
  },
  {
   "cell_type": "code",
   "execution_count": 5,
   "id": "e1f94c6d",
   "metadata": {},
   "outputs": [
    {
     "data": {
      "text/plain": [
       "Date\n",
       "2021-07-23   -0.001837\n",
       "2021-07-26   -0.013498\n",
       "2021-07-27   -0.004457\n",
       "2021-07-28    0.015358\n",
       "2021-07-29    0.008153\n",
       "                ...   \n",
       "2022-07-18    0.021507\n",
       "2022-07-19    0.055338\n",
       "2022-07-20    0.047964\n",
       "2022-07-21    0.013646\n",
       "2022-07-22   -0.040499\n",
       "Name: Adj Close, Length: 252, dtype: float64"
      ]
     },
     "execution_count": 5,
     "metadata": {},
     "output_type": "execute_result"
    }
   ],
   "source": [
    "rets = NVDA['Adj Close'].pct_change().dropna()\n",
    "rets"
   ]
  },
  {
   "cell_type": "code",
   "execution_count": 6,
   "id": "7ed8b182",
   "metadata": {},
   "outputs": [
    {
     "data": {
      "text/plain": [
       "<AxesSubplot:xlabel='Date'>"
      ]
     },
     "execution_count": 6,
     "metadata": {},
     "output_type": "execute_result"
    },
    {
     "data": {
      "image/png": "[encoded data removed]",
      "text/plain": [
       "<Figure size 720x288 with 1 Axes>"
      ]
     },
     "metadata": {
      "needs_background": "light"
     },
     "output_type": "display_data"
    }
   ],
   "source": [
    "rets.plot(legend=False,figsize=(10,4))"
   ]
  },
  {
   "cell_type": "code",
   "execution_count": 7,
   "id": "9d1aef90",
   "metadata": {},
   "outputs": [
    {
     "data": {
      "text/plain": [
       "-0.05810632972297609"
      ]
     },
     "execution_count": 7,
     "metadata": {},
     "output_type": "execute_result"
    }
   ],
   "source": [
    "rets.quantile(0.05)"
   ]
  },
  {
   "cell_type": "code",
   "execution_count": 8,
   "id": "20764ea6",
   "metadata": {},
   "outputs": [
    {
     "data": {
      "text/plain": [
       "dtype('float64')"
      ]
     },
     "execution_count": 8,
     "metadata": {},
     "output_type": "execute_result"
    }
   ],
   "source": [
    "rets.dtype"
   ]
  },
  {
   "cell_type": "code",
   "execution_count": 9,
   "id": "19bf470d",
   "metadata": {},
   "outputs": [
    {
     "data": {
      "text/plain": [
       "dtype('float64')"
      ]
     },
     "execution_count": 9,
     "metadata": {},
     "output_type": "execute_result"
    }
   ],
   "source": [
    "NVDA['Adj Close'][0].dtype"
   ]
  },
  {
   "cell_type": "code",
   "execution_count": 10,
   "id": "a4a0b7c0",
   "metadata": {},
   "outputs": [],
   "source": [
    "#Value at risk - \"Monte Carlo Method\"\n",
    "#Run many random trials, and calculate an aggregation of the simulations to determine risk of a stock.\n",
    "#try on NVDA\n",
    "\n",
    "days = 365\n",
    "dt = 1/days\n",
    "mu = rets.mean()\n",
    "sigma = rets.std()\n",
    "start_price = NVDA['Adj Close'][0]"
   ]
  },
  {
   "cell_type": "code",
   "execution_count": 11,
   "id": "6d290d56",
   "metadata": {},
   "outputs": [
    {
     "name": "stdout",
     "output_type": "stream",
     "text": [
      "CPU times: total: 6.27 s\n",
      "Wall time: 6.26 s\n"
     ]
    }
   ],
   "source": [
    "%%time\n",
    "runs = 1000000\n",
    "\n",
    "@numba.jit (nopython=True)\n",
    "def gen_rand_states(runs,days,dt,mu,sigma):\n",
    "    \n",
    "    tmp = np.zeros(shape=(runs,days))\n",
    "    for i in range(runs):\n",
    "        for j in range (1,days):\n",
    "            tmp[i][j] = np.random.normal(loc = mu*dt, scale = sigma*np.sqrt(dt))\n",
    "    return tmp\n",
    "\n",
    "shock = gen_rand_states(runs,days,dt,mu,sigma)"
   ]
  },
  {
   "cell_type": "code",
   "execution_count": 12,
   "id": "154aa02a",
   "metadata": {},
   "outputs": [
    {
     "name": "stdout",
     "output_type": "stream",
     "text": [
      "CPU times: total: 500 ms\n",
      "Wall time: 518 ms\n"
     ]
    }
   ],
   "source": [
    "%%time\n",
    "#sending arrays to device\n",
    "output = np.zeros(runs)\n",
    "\n",
    "dev_shk = cuda.to_device(shock)\n",
    "dev_out = cuda.to_device(output)"
   ]
  },
  {
   "cell_type": "code",
   "execution_count": 13,
   "id": "a0402654",
   "metadata": {},
   "outputs": [],
   "source": [
    "@cuda.jit\n",
    "def stock_monte_carlo(startprice,shock,days,mu,sigma,output):\n",
    "    ''' This function takes in starting stock price, days of simulation,mu,sigma, and returns simulated price array'''\n",
    "    \n",
    "    thread_idx = cuda.grid(1)\n",
    "    dt = 1/days\n",
    "    drift = mu*dt\n",
    "    \n",
    "    # Run price array for number of days\n",
    "    current = startprice\n",
    "    prev = startprice\n",
    "    for x in range(1,days):\n",
    "        tmp = current\n",
    "        current = prev + (prev * (drift + shock[thread_idx][x]))\n",
    "        prev = tmp\n",
    "        cuda.syncthreads()\n",
    "        \n",
    "    output[thread_idx] = current"
   ]
  },
  {
   "cell_type": "code",
   "execution_count": 14,
   "id": "d367ef00",
   "metadata": {},
   "outputs": [
    {
     "name": "stdout",
     "output_type": "stream",
     "text": [
      "7813\n"
     ]
    }
   ],
   "source": [
    "threads_per_blk = 128\n",
    "blk_per_grid = (dev_out.size + (threads_per_blk - 1)) // threads_per_blk\n",
    "print(blk_per_grid)"
   ]
  },
  {
   "cell_type": "code",
   "execution_count": 15,
   "id": "1703fadb",
   "metadata": {},
   "outputs": [
    {
     "name": "stdout",
     "output_type": "stream",
     "text": [
      "[197.91907494 207.61924216 199.08366811 ... 203.56150416 196.89097762\n",
      " 195.90450376]\n",
      "CPU times: total: 172 ms\n",
      "Wall time: 174 ms\n"
     ]
    }
   ],
   "source": [
    "%%time\n",
    "stock_monte_carlo[blk_per_grid,threads_per_blk](start_price,dev_shk,days,mu,sigma,dev_out)\n",
    "\n",
    "simulations = dev_out.copy_to_host()\n",
    "print(simulations)"
   ]
  },
  {
   "cell_type": "code",
   "execution_count": 16,
   "id": "e5a949e0",
   "metadata": {},
   "outputs": [
    {
     "data": {
      "image/png": "[encoded data removed]",
      "text/plain": [
       "<Figure size 432x288 with 1 Axes>"
      ]
     },
     "metadata": {
      "needs_background": "light"
     },
     "output_type": "display_data"
    }
   ],
   "source": [
    "q = np.percentile(simulations,5)\n",
    "sns.histplot(simulations,bins=200,kde=True)\n",
    "\n",
    "#text above figure\n",
    "\n",
    "# Using plt.figtext to fill in some additional information onto the plot\n",
    "\n",
    "# Starting Price\n",
    "plt.figtext(0.6, 0.8, s=\"Start price: $%.2f\" %start_price)\n",
    "# Mean ending price\n",
    "plt.figtext(0.6, 0.7, \"Mean final price: $%.2f\" % simulations.mean())\n",
    "\n",
    "# Variance of the price (within 95% confidence interval)\n",
    "plt.figtext(0.6, 0.6, \"VaR(0.95): $%.2f\" % (start_price - q))\n",
    "\n",
    "# Display 5% quantile\n",
    "plt.figtext(0.15, 0.6, \"q(0.95): $%.2f\" % q)\n",
    "\n",
    "# Plot a line at the 5% quantile result\n",
    "plt.axvline(x=q, linewidth=2, color='r')\n",
    "\n",
    "# Title\n",
    "plt.title(u\"Final price distribution for Nvidia Stock after %s days\" % days, weight='bold');"
   ]
  },
  {
   "cell_type": "code",
   "execution_count": 17,
   "id": "5ddd6a25",
   "metadata": {},
   "outputs": [
    {
     "name": "stdout",
     "output_type": "stream",
     "text": [
      "2920000000\n"
     ]
    }
   ],
   "source": [
    "print(shock.size*shock.itemsize)"
   ]
  },
  {
   "cell_type": "code",
   "execution_count": null,
   "id": "9e9c9860",
   "metadata": {},
   "outputs": [],
   "source": []
  }
 ],
 "metadata": {
  "kernelspec": {
   "display_name": "Python 3 (ipykernel)",
   "language": "python",
   "name": "python3"
  },
  "language_info": {
   "codemirror_mode": {
    "name": "ipython",
    "version": 3
   },
   "file_extension": ".py",
   "mimetype": "text/x-python",
   "name": "python",
   "nbconvert_exporter": "python",
   "pygments_lexer": "ipython3",
   "version": "3.9.10"
  }
 },
 "nbformat": 4,
 "nbformat_minor": 5
}
